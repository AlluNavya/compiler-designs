{
  "nbformat": 4,
  "nbformat_minor": 0,
  "metadata": {
    "colab": {
      "provenance": [],
      "authorship_tag": "ABX9TyNp50nCk4HEwtTGD0o645qC",
      "include_colab_link": true
    },
    "kernelspec": {
      "name": "python3",
      "display_name": "Python 3"
    },
    "language_info": {
      "name": "python"
    }
  },
  "cells": [
    {
      "cell_type": "markdown",
      "metadata": {
        "id": "view-in-github",
        "colab_type": "text"
      },
      "source": [
        "<a href=\"https://colab.research.google.com/github/AlluNavya/compiler-designs/blob/main/keywords_count.ipynb\" target=\"_parent\"><img src=\"https://colab.research.google.com/assets/colab-badge.svg\" alt=\"Open In Colab\"/></a>"
      ]
    },
    {
      "cell_type": "code",
      "execution_count": 1,
      "metadata": {
        "colab": {
          "base_uri": "https://localhost:8080/"
        },
        "id": "gha8PECUaeD7",
        "outputId": "99163a49-a2c5-459e-8c1d-aa39062d06c6"
      },
      "outputs": [
        {
          "output_type": "stream",
          "name": "stdout",
          "text": [
            "keywords :  ['int']\n",
            "operators :  []\n",
            "delimiters :  ['}']\n",
            "numbers :  []\n",
            "identifiers :  ['b=20;', '#include', 'printf(c);', 'c=a+b;', 'main(){', '<stdio.h>', 'a=10;']\n"
          ]
        }
      ],
      "source": [
        "with open('n1.txt') as t:\n",
        "\ttext=t.read().split()\n",
        "\n",
        "keywords= {\"auto\", \"break\",\"case\", \"char\",\"const\",\"continue\",\"default\",\"do\",\"double\",\"else\", \"enum\", \"extern\",\"float\", \"for\",\"goto\",\"if\",\"int\",\"long\",\"register\",\"return\",\"short\",\"signed\",\"sizeof\",\"static\",\"struct\",\"switch\",\"typedef\",\"union\",\"unsigned\",\"void\",\"volatile\",\"while\",\"printf\",\"scanf\",\n",
        "\"%d\",\"include\",\"stdio.h\",\"main\"}\n",
        "\n",
        "operators={\"+\",\"-\",\"*\",\"/\",\",\",\"<\",\">\",\"<=\",\">=\",\"=\",\"==\",\"!=\",\"++\",\"--\",\"%\"}\n",
        "\n",
        "delimiters={'(',')','{','}','[',']','#'}\n",
        "\n",
        "def detect_keywords(text):\n",
        "\tarr=[]\n",
        "\tfor word in text:\n",
        "\t\tif word in keywords:\n",
        "\t\t\tarr.append(word)\n",
        "\treturn list(set(arr))\n",
        "\n",
        "def detect_operators(text):\n",
        "\t arr=[]\n",
        "\t for word in text:\n",
        "\t \tif word in operators:\n",
        "\t \t\tarr.append(word)\n",
        "\t return list(set(arr))\n",
        "\n",
        "def detect_delimiters(text):\n",
        "\tarr=[]\n",
        "\tfor word in text:\n",
        "\t\tif word in delimiters:\n",
        "\t\t\tarr.append(word)\n",
        "\treturn list(set(arr))\n",
        "\n",
        "def detect_num(text):\n",
        "\tarr=[]\n",
        "\tfor word in text:\n",
        "\t\ttry:\n",
        "\t\t\ta=int(word)\n",
        "\t\t\tarr.append(word)\n",
        "\t\texcept:\n",
        "\t\t\tpass\n",
        "\treturn list(set(arr))\n",
        "\n",
        "def detect_identifers(text):\n",
        "\tarr=[]\n",
        "\tk=detect_keywords(text)\n",
        "\to=detect_operators(text)\n",
        "\td=detect_delimiters(text)\n",
        "\tn=detect_num(text)\n",
        "\tnon_ident=k+o+d+n\n",
        "\tfor word in text:\n",
        "\t\tif word not in non_ident:\n",
        "\t\t\tarr.append(word)\n",
        "\treturn list(set(arr))\n",
        "\n",
        "print(\"keywords : \",detect_keywords(text))\n",
        "print(\"operators : \",detect_operators(text))\n",
        "print(\"delimiters : \",detect_delimiters(text))\n",
        "print(\"numbers : \",detect_num(text))\n",
        "print(\"identifiers : \",detect_identifers(text))"
      ]
    }
  ]
}